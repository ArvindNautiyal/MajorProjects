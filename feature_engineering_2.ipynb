{
  "nbformat": 4,
  "nbformat_minor": 0,
  "metadata": {
    "colab": {
      "provenance": []
    },
    "kernelspec": {
      "name": "python3",
      "display_name": "Python 3"
    },
    "language_info": {
      "name": "python"
    }
  },
  "cells": [
    {
      "cell_type": "code",
      "execution_count": 10,
      "metadata": {
        "id": "fZ3q688TrL7A"
      },
      "outputs": [],
      "source": [
        "import pandas as pd\n"
      ]
    },
    {
      "cell_type": "code",
      "source": [
        "data = pd.read_csv('/content/feature_engineering-1.csv')"
      ],
      "metadata": {
        "id": "QHN7Bo_BrZGr"
      },
      "execution_count": 11,
      "outputs": []
    },
    {
      "cell_type": "code",
      "source": [
        "data.columns"
      ],
      "metadata": {
        "colab": {
          "base_uri": "https://localhost:8080/"
        },
        "id": "cAmztOrortiB",
        "outputId": "026f4548-908c-4ca0-d884-365c698de3c8"
      },
      "execution_count": 12,
      "outputs": [
        {
          "output_type": "execute_result",
          "data": {
            "text/plain": [
              "Index(['property_type', 'society', 'sector', 'price', 'price_per_sqft', 'area',\n",
              "       'areawithtype', 'bedroom', 'bathroom', 'balcony', 'additionalroom',\n",
              "       'floornum', 'facing', 'agepossession', 'nearbylocations',\n",
              "       'furnishdetails', 'features', 'super_built_up_area', 'built_up_area',\n",
              "       'carpet_area', 'study_room', 'store_room', 'others_room', 'pooja_room',\n",
              "       'na_room', 'servant_room', 'furnishing_type'],\n",
              "      dtype='object')"
            ]
          },
          "metadata": {},
          "execution_count": 12
        }
      ]
    },
    {
      "cell_type": "code",
      "source": [
        "from sklearn.preprocessing import MultiLabelBinarizer\n",
        "import ast\n",
        "# Convert the string representation of lists in the 'features' column to actual lists\n",
        "data['features_list'] = data['features'].apply(lambda x: ast.literal_eval(x) if pd.notnull(x) and x.startswith('[') else [])\n",
        "\n",
        "# Use MultiLabelBinarizer to convert the features list into a binary matrix\n",
        "mlb = MultiLabelBinarizer()\n",
        "features_binary_matrix = mlb.fit_transform(data['features_list'])\n",
        "\n",
        "# Convert the binary matrix into a DataFrame\n",
        "features_binary_df = pd.DataFrame(features_binary_matrix, columns=mlb.classes_)"
      ],
      "metadata": {
        "id": "KjA63T7Ctz0U"
      },
      "execution_count": 14,
      "outputs": []
    },
    {
      "cell_type": "code",
      "source": [
        "from sklearn.cluster import KMeans\n",
        "from sklearn.preprocessing import StandardScaler\n",
        "wcss_reduced = []\n",
        "\n",
        "for i in range(1, 11):\n",
        "    kmeans = KMeans(n_clusters=i, init='k-means++', random_state=42)\n",
        "    kmeans.fit(features_binary_df)\n",
        "    wcss_reduced.append(kmeans.inertia_)"
      ],
      "metadata": {
        "colab": {
          "base_uri": "https://localhost:8080/"
        },
        "id": "k3WdfyzyttYC",
        "outputId": "1ad2a060-7939-4db7-8f65-9d0565063a65"
      },
      "execution_count": 15,
      "outputs": [
        {
          "output_type": "stream",
          "name": "stderr",
          "text": [
            "/usr/local/lib/python3.10/dist-packages/sklearn/cluster/_kmeans.py:870: FutureWarning: The default value of `n_init` will change from 10 to 'auto' in 1.4. Set the value of `n_init` explicitly to suppress the warning\n",
            "  warnings.warn(\n",
            "/usr/local/lib/python3.10/dist-packages/sklearn/cluster/_kmeans.py:870: FutureWarning: The default value of `n_init` will change from 10 to 'auto' in 1.4. Set the value of `n_init` explicitly to suppress the warning\n",
            "  warnings.warn(\n",
            "/usr/local/lib/python3.10/dist-packages/sklearn/cluster/_kmeans.py:870: FutureWarning: The default value of `n_init` will change from 10 to 'auto' in 1.4. Set the value of `n_init` explicitly to suppress the warning\n",
            "  warnings.warn(\n",
            "/usr/local/lib/python3.10/dist-packages/sklearn/cluster/_kmeans.py:870: FutureWarning: The default value of `n_init` will change from 10 to 'auto' in 1.4. Set the value of `n_init` explicitly to suppress the warning\n",
            "  warnings.warn(\n",
            "/usr/local/lib/python3.10/dist-packages/sklearn/cluster/_kmeans.py:870: FutureWarning: The default value of `n_init` will change from 10 to 'auto' in 1.4. Set the value of `n_init` explicitly to suppress the warning\n",
            "  warnings.warn(\n",
            "/usr/local/lib/python3.10/dist-packages/sklearn/cluster/_kmeans.py:870: FutureWarning: The default value of `n_init` will change from 10 to 'auto' in 1.4. Set the value of `n_init` explicitly to suppress the warning\n",
            "  warnings.warn(\n",
            "/usr/local/lib/python3.10/dist-packages/sklearn/cluster/_kmeans.py:870: FutureWarning: The default value of `n_init` will change from 10 to 'auto' in 1.4. Set the value of `n_init` explicitly to suppress the warning\n",
            "  warnings.warn(\n",
            "/usr/local/lib/python3.10/dist-packages/sklearn/cluster/_kmeans.py:870: FutureWarning: The default value of `n_init` will change from 10 to 'auto' in 1.4. Set the value of `n_init` explicitly to suppress the warning\n",
            "  warnings.warn(\n",
            "/usr/local/lib/python3.10/dist-packages/sklearn/cluster/_kmeans.py:870: FutureWarning: The default value of `n_init` will change from 10 to 'auto' in 1.4. Set the value of `n_init` explicitly to suppress the warning\n",
            "  warnings.warn(\n",
            "/usr/local/lib/python3.10/dist-packages/sklearn/cluster/_kmeans.py:870: FutureWarning: The default value of `n_init` will change from 10 to 'auto' in 1.4. Set the value of `n_init` explicitly to suppress the warning\n",
            "  warnings.warn(\n"
          ]
        }
      ]
    },
    {
      "cell_type": "code",
      "source": [
        "weights = {\n",
        "    '24/7 Power Backup': 8,\n",
        "    '24/7 Water Supply': 4,\n",
        "    '24x7 Security': 7,\n",
        "    'ATM': 4,\n",
        "    'Aerobics Centre': 6,\n",
        "    'Airy Rooms': 8,\n",
        "    'Amphitheatre': 7,\n",
        "    'Badminton Court': 7,\n",
        "    'Banquet Hall': 8,\n",
        "    'Bar/Chill-Out Lounge': 9,\n",
        "    'Barbecue': 7,\n",
        "    'Basketball Court': 7,\n",
        "    'Billiards': 7,\n",
        "    'Bowling Alley': 8,\n",
        "    'Business Lounge': 9,\n",
        "    'CCTV Camera Security': 8,\n",
        "    'Cafeteria': 6,\n",
        "    'Car Parking': 6,\n",
        "    'Card Room': 6,\n",
        "    'Centrally Air Conditioned': 9,\n",
        "    'Changing Area': 6,\n",
        "    \"Children's Play Area\": 7,\n",
        "    'Cigar Lounge': 9,\n",
        "    'Clinic': 5,\n",
        "    'Club House': 9,\n",
        "    'Concierge Service': 9,\n",
        "    'Conference room': 8,\n",
        "    'Creche/Day care': 7,\n",
        "    'Cricket Pitch': 7,\n",
        "     'Doctor on Call': 6,\n",
        "    'Earthquake Resistant': 5,\n",
        "    'Entrance Lobby': 7,\n",
        "    'False Ceiling Lighting': 6,\n",
        "    'Feng Shui / Vaastu Compliant': 5,\n",
        "    'Fire Fighting Systems': 8,\n",
        "    'Fitness Centre / GYM': 8,\n",
        "    'Flower Garden': 7,\n",
        "    'Food Court': 6,\n",
        "    'Foosball': 5,\n",
        "    'Football': 7,\n",
        "    'Fountain': 7,\n",
        "    'Gated Community': 7,\n",
        "    'Golf Course': 10,\n",
        "    'Grocery Shop': 6,\n",
        "    'Gymnasium': 8,\n",
        "    'High Ceiling Height': 8,\n",
        "    'High Speed Elevators': 8,\n",
        "    'Infinity Pool': 9,\n",
        "    'Intercom Facility': 7,\n",
        "    'Internal Street Lights': 6,\n",
        "    'Internet/wi-fi connectivity': 7,\n",
        "    'Jacuzzi': 9,\n",
        "    'Jogging Track': 7,\n",
        "    'Landscape Garden': 8,\n",
        "    'Laundry': 6,\n",
        "    'Lawn Tennis Court': 8,\n",
        "    'Library': 8,\n",
        "    'Lounge': 8,\n",
        "    'Low Density Society': 7,\n",
        "    'Maintenance Staff': 6,\n",
        "    'Manicured Garden': 7,\n",
        "    'Medical Centre': 5,\n",
        "    'Milk Booth': 4,\n",
        "    'Mini Theatre': 9,\n",
        "    'Multipurpose Court': 7,\n",
        "    'Multipurpose Hall': 7,\n",
        "    'Natural Light': 8,\n",
        "    'Natural Pond': 7,\n",
        "    'Park': 8,\n",
        "    'Party Lawn': 8,\n",
        "    'Piped Gas': 7,\n",
        "    'Pool Table': 7,\n",
        "    'Power Back up Lift': 8,\n",
        "    'Private Garden / Terrace': 9,\n",
        "    'Property Staff': 7,\n",
        "    'RO System': 7,\n",
        "    'Rain Water Harvesting': 7,\n",
        "    'Reading Lounge': 8,\n",
        "    'Restaurant': 8,\n",
        "    'Salon': 8,\n",
        "    'Sauna': 9,\n",
        "    'Security / Fire Alarm': 9,\n",
        "    'Security Personnel': 9,\n",
        "    'Separate entry for servant room': 8,\n",
        "    'Sewage Treatment Plant': 6,\n",
        "    'Shopping Centre': 7,\n",
        "    'Skating Rink': 7,\n",
        "    'Solar Lighting': 6,\n",
        "    'Solar Water Heating': 7,\n",
        "    'Spa': 9,\n",
        "    'Spacious Interiors': 9,\n",
        "    'Squash Court': 8,\n",
        "    'Steam Room': 9,\n",
        "    'Sun Deck': 8,\n",
        "    'Swimming Pool': 8,\n",
        "    'Temple': 5,\n",
        "    'Theatre': 9,\n",
        "    'Toddler Pool': 7,\n",
        "    'Valet Parking': 9,\n",
        "    'Video Door Security': 9,\n",
        "    'Visitor Parking': 7,\n",
        "    'Water Softener Plant': 7,\n",
        "    'Water Storage': 7,\n",
        "    'Water purifier': 7,\n",
        "    'Yoga/Meditation Area': 7\n",
        "}\n",
        "missing_cols = set(weights.keys()) - set(features_binary_df.columns)\n",
        "for col in missing_cols:\n",
        "    features_binary_df[col] = 0\n",
        "\n",
        "# Calculate luxury score\n",
        "luxury_score = features_binary_df[list(weights.keys())].multiply(pd.Series(weights)).sum(axis=1)\n",
        "\n",
        "# Display the luxury scores\n"
      ],
      "metadata": {
        "id": "Ss12qBvesi4T"
      },
      "execution_count": 19,
      "outputs": []
    },
    {
      "cell_type": "code",
      "source": [
        "data['luxury_score'] = luxury_score"
      ],
      "metadata": {
        "id": "-BQQ1ck5sT2H"
      },
      "execution_count": 21,
      "outputs": []
    },
    {
      "cell_type": "code",
      "source": [
        "data.columns"
      ],
      "metadata": {
        "colab": {
          "base_uri": "https://localhost:8080/"
        },
        "id": "E0YIxc7vvYcv",
        "outputId": "148728d7-9709-4908-9557-802a5bfdef7b"
      },
      "execution_count": 22,
      "outputs": [
        {
          "output_type": "execute_result",
          "data": {
            "text/plain": [
              "Index(['property_type', 'society', 'sector', 'price', 'price_per_sqft', 'area',\n",
              "       'areawithtype', 'bedroom', 'bathroom', 'balcony', 'additionalroom',\n",
              "       'floornum', 'facing', 'agepossession', 'nearbylocations',\n",
              "       'furnishdetails', 'features', 'super_built_up_area', 'built_up_area',\n",
              "       'carpet_area', 'study_room', 'store_room', 'others_room', 'pooja_room',\n",
              "       'na_room', 'servant_room', 'furnishing_type', 'features_list',\n",
              "       'luxury_score'],\n",
              "      dtype='object')"
            ]
          },
          "metadata": {},
          "execution_count": 22
        }
      ]
    },
    {
      "cell_type": "code",
      "source": [
        "data[['property_type','luxury_score']].sample(3)"
      ],
      "metadata": {
        "colab": {
          "base_uri": "https://localhost:8080/",
          "height": 143
        },
        "id": "b_7X7eHovbUv",
        "outputId": "03310193-6792-44c3-efb8-be30412fb34d"
      },
      "execution_count": 23,
      "outputs": [
        {
          "output_type": "execute_result",
          "data": {
            "text/plain": [
              "     property_type  luxury_score\n",
              "983           flat            72\n",
              "3435        houses             0\n",
              "1204          flat            79"
            ],
            "text/html": [
              "\n",
              "  <div id=\"df-ddcadb8d-c11a-4114-ac8b-7084ad12c938\" class=\"colab-df-container\">\n",
              "    <div>\n",
              "<style scoped>\n",
              "    .dataframe tbody tr th:only-of-type {\n",
              "        vertical-align: middle;\n",
              "    }\n",
              "\n",
              "    .dataframe tbody tr th {\n",
              "        vertical-align: top;\n",
              "    }\n",
              "\n",
              "    .dataframe thead th {\n",
              "        text-align: right;\n",
              "    }\n",
              "</style>\n",
              "<table border=\"1\" class=\"dataframe\">\n",
              "  <thead>\n",
              "    <tr style=\"text-align: right;\">\n",
              "      <th></th>\n",
              "      <th>property_type</th>\n",
              "      <th>luxury_score</th>\n",
              "    </tr>\n",
              "  </thead>\n",
              "  <tbody>\n",
              "    <tr>\n",
              "      <th>983</th>\n",
              "      <td>flat</td>\n",
              "      <td>72</td>\n",
              "    </tr>\n",
              "    <tr>\n",
              "      <th>3435</th>\n",
              "      <td>houses</td>\n",
              "      <td>0</td>\n",
              "    </tr>\n",
              "    <tr>\n",
              "      <th>1204</th>\n",
              "      <td>flat</td>\n",
              "      <td>79</td>\n",
              "    </tr>\n",
              "  </tbody>\n",
              "</table>\n",
              "</div>\n",
              "    <div class=\"colab-df-buttons\">\n",
              "\n",
              "  <div class=\"colab-df-container\">\n",
              "    <button class=\"colab-df-convert\" onclick=\"convertToInteractive('df-ddcadb8d-c11a-4114-ac8b-7084ad12c938')\"\n",
              "            title=\"Convert this dataframe to an interactive table.\"\n",
              "            style=\"display:none;\">\n",
              "\n",
              "  <svg xmlns=\"http://www.w3.org/2000/svg\" height=\"24px\" viewBox=\"0 -960 960 960\">\n",
              "    <path d=\"M120-120v-720h720v720H120Zm60-500h600v-160H180v160Zm220 220h160v-160H400v160Zm0 220h160v-160H400v160ZM180-400h160v-160H180v160Zm440 0h160v-160H620v160ZM180-180h160v-160H180v160Zm440 0h160v-160H620v160Z\"/>\n",
              "  </svg>\n",
              "    </button>\n",
              "\n",
              "  <style>\n",
              "    .colab-df-container {\n",
              "      display:flex;\n",
              "      gap: 12px;\n",
              "    }\n",
              "\n",
              "    .colab-df-convert {\n",
              "      background-color: #E8F0FE;\n",
              "      border: none;\n",
              "      border-radius: 50%;\n",
              "      cursor: pointer;\n",
              "      display: none;\n",
              "      fill: #1967D2;\n",
              "      height: 32px;\n",
              "      padding: 0 0 0 0;\n",
              "      width: 32px;\n",
              "    }\n",
              "\n",
              "    .colab-df-convert:hover {\n",
              "      background-color: #E2EBFA;\n",
              "      box-shadow: 0px 1px 2px rgba(60, 64, 67, 0.3), 0px 1px 3px 1px rgba(60, 64, 67, 0.15);\n",
              "      fill: #174EA6;\n",
              "    }\n",
              "\n",
              "    .colab-df-buttons div {\n",
              "      margin-bottom: 4px;\n",
              "    }\n",
              "\n",
              "    [theme=dark] .colab-df-convert {\n",
              "      background-color: #3B4455;\n",
              "      fill: #D2E3FC;\n",
              "    }\n",
              "\n",
              "    [theme=dark] .colab-df-convert:hover {\n",
              "      background-color: #434B5C;\n",
              "      box-shadow: 0px 1px 3px 1px rgba(0, 0, 0, 0.15);\n",
              "      filter: drop-shadow(0px 1px 2px rgba(0, 0, 0, 0.3));\n",
              "      fill: #FFFFFF;\n",
              "    }\n",
              "  </style>\n",
              "\n",
              "    <script>\n",
              "      const buttonEl =\n",
              "        document.querySelector('#df-ddcadb8d-c11a-4114-ac8b-7084ad12c938 button.colab-df-convert');\n",
              "      buttonEl.style.display =\n",
              "        google.colab.kernel.accessAllowed ? 'block' : 'none';\n",
              "\n",
              "      async function convertToInteractive(key) {\n",
              "        const element = document.querySelector('#df-ddcadb8d-c11a-4114-ac8b-7084ad12c938');\n",
              "        const dataTable =\n",
              "          await google.colab.kernel.invokeFunction('convertToInteractive',\n",
              "                                                    [key], {});\n",
              "        if (!dataTable) return;\n",
              "\n",
              "        const docLinkHtml = 'Like what you see? Visit the ' +\n",
              "          '<a target=\"_blank\" href=https://colab.research.google.com/notebooks/data_table.ipynb>data table notebook</a>'\n",
              "          + ' to learn more about interactive tables.';\n",
              "        element.innerHTML = '';\n",
              "        dataTable['output_type'] = 'display_data';\n",
              "        await google.colab.output.renderOutput(dataTable, element);\n",
              "        const docLink = document.createElement('div');\n",
              "        docLink.innerHTML = docLinkHtml;\n",
              "        element.appendChild(docLink);\n",
              "      }\n",
              "    </script>\n",
              "  </div>\n",
              "\n",
              "\n",
              "<div id=\"df-3db4790a-7b6c-4ce0-918d-82962c2e137c\">\n",
              "  <button class=\"colab-df-quickchart\" onclick=\"quickchart('df-3db4790a-7b6c-4ce0-918d-82962c2e137c')\"\n",
              "            title=\"Suggest charts\"\n",
              "            style=\"display:none;\">\n",
              "\n",
              "<svg xmlns=\"http://www.w3.org/2000/svg\" height=\"24px\"viewBox=\"0 0 24 24\"\n",
              "     width=\"24px\">\n",
              "    <g>\n",
              "        <path d=\"M19 3H5c-1.1 0-2 .9-2 2v14c0 1.1.9 2 2 2h14c1.1 0 2-.9 2-2V5c0-1.1-.9-2-2-2zM9 17H7v-7h2v7zm4 0h-2V7h2v10zm4 0h-2v-4h2v4z\"/>\n",
              "    </g>\n",
              "</svg>\n",
              "  </button>\n",
              "\n",
              "<style>\n",
              "  .colab-df-quickchart {\n",
              "      --bg-color: #E8F0FE;\n",
              "      --fill-color: #1967D2;\n",
              "      --hover-bg-color: #E2EBFA;\n",
              "      --hover-fill-color: #174EA6;\n",
              "      --disabled-fill-color: #AAA;\n",
              "      --disabled-bg-color: #DDD;\n",
              "  }\n",
              "\n",
              "  [theme=dark] .colab-df-quickchart {\n",
              "      --bg-color: #3B4455;\n",
              "      --fill-color: #D2E3FC;\n",
              "      --hover-bg-color: #434B5C;\n",
              "      --hover-fill-color: #FFFFFF;\n",
              "      --disabled-bg-color: #3B4455;\n",
              "      --disabled-fill-color: #666;\n",
              "  }\n",
              "\n",
              "  .colab-df-quickchart {\n",
              "    background-color: var(--bg-color);\n",
              "    border: none;\n",
              "    border-radius: 50%;\n",
              "    cursor: pointer;\n",
              "    display: none;\n",
              "    fill: var(--fill-color);\n",
              "    height: 32px;\n",
              "    padding: 0;\n",
              "    width: 32px;\n",
              "  }\n",
              "\n",
              "  .colab-df-quickchart:hover {\n",
              "    background-color: var(--hover-bg-color);\n",
              "    box-shadow: 0 1px 2px rgba(60, 64, 67, 0.3), 0 1px 3px 1px rgba(60, 64, 67, 0.15);\n",
              "    fill: var(--button-hover-fill-color);\n",
              "  }\n",
              "\n",
              "  .colab-df-quickchart-complete:disabled,\n",
              "  .colab-df-quickchart-complete:disabled:hover {\n",
              "    background-color: var(--disabled-bg-color);\n",
              "    fill: var(--disabled-fill-color);\n",
              "    box-shadow: none;\n",
              "  }\n",
              "\n",
              "  .colab-df-spinner {\n",
              "    border: 2px solid var(--fill-color);\n",
              "    border-color: transparent;\n",
              "    border-bottom-color: var(--fill-color);\n",
              "    animation:\n",
              "      spin 1s steps(1) infinite;\n",
              "  }\n",
              "\n",
              "  @keyframes spin {\n",
              "    0% {\n",
              "      border-color: transparent;\n",
              "      border-bottom-color: var(--fill-color);\n",
              "      border-left-color: var(--fill-color);\n",
              "    }\n",
              "    20% {\n",
              "      border-color: transparent;\n",
              "      border-left-color: var(--fill-color);\n",
              "      border-top-color: var(--fill-color);\n",
              "    }\n",
              "    30% {\n",
              "      border-color: transparent;\n",
              "      border-left-color: var(--fill-color);\n",
              "      border-top-color: var(--fill-color);\n",
              "      border-right-color: var(--fill-color);\n",
              "    }\n",
              "    40% {\n",
              "      border-color: transparent;\n",
              "      border-right-color: var(--fill-color);\n",
              "      border-top-color: var(--fill-color);\n",
              "    }\n",
              "    60% {\n",
              "      border-color: transparent;\n",
              "      border-right-color: var(--fill-color);\n",
              "    }\n",
              "    80% {\n",
              "      border-color: transparent;\n",
              "      border-right-color: var(--fill-color);\n",
              "      border-bottom-color: var(--fill-color);\n",
              "    }\n",
              "    90% {\n",
              "      border-color: transparent;\n",
              "      border-bottom-color: var(--fill-color);\n",
              "    }\n",
              "  }\n",
              "</style>\n",
              "\n",
              "  <script>\n",
              "    async function quickchart(key) {\n",
              "      const quickchartButtonEl =\n",
              "        document.querySelector('#' + key + ' button');\n",
              "      quickchartButtonEl.disabled = true;  // To prevent multiple clicks.\n",
              "      quickchartButtonEl.classList.add('colab-df-spinner');\n",
              "      try {\n",
              "        const charts = await google.colab.kernel.invokeFunction(\n",
              "            'suggestCharts', [key], {});\n",
              "      } catch (error) {\n",
              "        console.error('Error during call to suggestCharts:', error);\n",
              "      }\n",
              "      quickchartButtonEl.classList.remove('colab-df-spinner');\n",
              "      quickchartButtonEl.classList.add('colab-df-quickchart-complete');\n",
              "    }\n",
              "    (() => {\n",
              "      let quickchartButtonEl =\n",
              "        document.querySelector('#df-3db4790a-7b6c-4ce0-918d-82962c2e137c button');\n",
              "      quickchartButtonEl.style.display =\n",
              "        google.colab.kernel.accessAllowed ? 'block' : 'none';\n",
              "    })();\n",
              "  </script>\n",
              "</div>\n",
              "\n",
              "    </div>\n",
              "  </div>\n"
            ],
            "application/vnd.google.colaboratory.intrinsic+json": {
              "type": "dataframe",
              "summary": "{\n  \"name\": \"data[['property_type','luxury_score']]\",\n  \"rows\": 3,\n  \"fields\": [\n    {\n      \"column\": \"property_type\",\n      \"properties\": {\n        \"dtype\": \"string\",\n        \"num_unique_values\": 2,\n        \"samples\": [\n          \"houses\",\n          \"flat\"\n        ],\n        \"semantic_type\": \"\",\n        \"description\": \"\"\n      }\n    },\n    {\n      \"column\": \"luxury_score\",\n      \"properties\": {\n        \"dtype\": \"number\",\n        \"std\": 43,\n        \"min\": 0,\n        \"max\": 79,\n        \"num_unique_values\": 3,\n        \"samples\": [\n          72,\n          0\n        ],\n        \"semantic_type\": \"\",\n        \"description\": \"\"\n      }\n    }\n  ]\n}"
            }
          },
          "metadata": {},
          "execution_count": 23
        }
      ]
    },
    {
      "cell_type": "code",
      "source": [
        "\n",
        "data.drop(columns=['nearbylocations','furnishdetails','features','features_list','additionalroom'],inplace=True)"
      ],
      "metadata": {
        "id": "tYCPlG1evl_R"
      },
      "execution_count": 27,
      "outputs": []
    },
    {
      "cell_type": "code",
      "source": [
        "data.columns"
      ],
      "metadata": {
        "colab": {
          "base_uri": "https://localhost:8080/"
        },
        "id": "WT4PZ_9Zv0r4",
        "outputId": "68a7d4fc-e21a-45ce-a005-0c066ecb3376"
      },
      "execution_count": 28,
      "outputs": [
        {
          "output_type": "execute_result",
          "data": {
            "text/plain": [
              "Index(['property_type', 'society', 'sector', 'price', 'price_per_sqft', 'area',\n",
              "       'areawithtype', 'bedroom', 'bathroom', 'balcony', 'floornum', 'facing',\n",
              "       'agepossession', 'super_built_up_area', 'built_up_area', 'carpet_area',\n",
              "       'study_room', 'store_room', 'others_room', 'pooja_room', 'na_room',\n",
              "       'servant_room', 'furnishing_type', 'luxury_score'],\n",
              "      dtype='object')"
            ]
          },
          "metadata": {},
          "execution_count": 28
        }
      ]
    },
    {
      "cell_type": "code",
      "source": [
        "data.to_csv('/content/ddd.csv',index=False)"
      ],
      "metadata": {
        "id": "XNfLLChNwEv5"
      },
      "execution_count": 29,
      "outputs": []
    }
  ]
}